{
 "cells": [
  {
   "cell_type": "markdown",
   "id": "4bbd5353",
   "metadata": {},
   "source": [
    "***\n",
    "*Project:* Expressive Piano Generation\n",
    "\n",
    "*Author:* Jingwei Liu (Computer Music Ph.D., UC San Diego)\n",
    "***\n",
    "\n",
    "# <span style=\"background-color:darkorange; color:white; padding:2px 6px\">Training</span> \n",
    "\n",
    "\n",
    "# Expressive Piano Performance Model Training"
   ]
  },
  {
   "cell_type": "code",
   "execution_count": 1,
   "id": "987d3a46",
   "metadata": {},
   "outputs": [
    {
     "data": {
      "text/plain": [
       "True"
      ]
     },
     "execution_count": 1,
     "metadata": {},
     "output_type": "execute_result"
    }
   ],
   "source": [
    "import py_midicsv as pm\n",
    "import pandas as pd\n",
    "import numpy as np\n",
    "from pathlib import Path\n",
    "import matplotlib.pyplot as plt\n",
    "import torch\n",
    "from torch import nn, optim\n",
    "import os\n",
    "torch.cuda.is_available()"
   ]
  },
  {
   "cell_type": "code",
   "execution_count": 2,
   "id": "e19afe80",
   "metadata": {},
   "outputs": [],
   "source": [
    "dev = torch.device(\"cuda\") # operate on GPU \"cuda\" or CPU \"cpu\""
   ]
  },
  {
   "cell_type": "markdown",
   "id": "2bf650d8",
   "metadata": {},
   "source": [
    "## Multi-arguments Sequential Model\n",
    "\n",
    "The temporal feature of the performance is captured by the sequential model, and the multi-arguments are inherently interdependent. To model their interdependencies, we decompose the temporal predictor into 5 separate LSTMs with inputs conditioned on previous outputs.\n",
    "\n",
    "<img src=\"Pictures/LSTM_5.jpg\" style=\"width:800px\">\n",
    "<caption><center> Figure 1. A way to Capture Interdependency among Arguments in a Multi-argument Sequential Model.</center></caption>\n",
    "\n",
    "## Categorical Index of Multi-arguments\n",
    "\n",
    "- $x_n$ -- MIDI note number minus $21$. Original range $[21,108]$, note index range $[0,87]$.\n",
    "\n",
    "- $x_t$ -- Time shift in miliseconds categorized as Fig.1, index range $[0,104]$.\n",
    "\n",
    "- $x_d$ -- Duration in miliseconds categorized as Fig.1, index range $[0,119]$.\n",
    "\n",
    "- $x_v$ -- Velocity difference between two subsequent notes. Categorized as Fig.1, index range $[0,46]$\n",
    "\n",
    "- $x_p$ -- Sustain pedal status on/off, index range $[0,1]$"
   ]
  },
  {
   "cell_type": "code",
   "execution_count": 5,
   "id": "d7f72fb3",
   "metadata": {},
   "outputs": [],
   "source": [
    "class LSTM(nn.Module):\n",
    "    def __init__(self, input_len, hidden_size, num_class, num_layers):\n",
    "        super(LSTM, self).__init__()\n",
    "        self.hidden_size = hidden_size\n",
    "        self.num_layers = num_layers\n",
    "        self.LSTM = nn.LSTM(input_len, hidden_size, num_layers, batch_first = True, device=dev)\n",
    "        self.output_layer = nn.Linear(hidden_size, num_class, device=dev)\n",
    "        \n",
    "    def forward(self, X): # input X (batch_size, seq_len, input_len)\n",
    "        hidden_state = torch.zeros(self.num_layers, X.size(0), self.hidden_size, device = dev)\n",
    "        cell_state = torch.zeros(self.num_layers, X.size(0), self.hidden_size, device = dev)\n",
    "        out, (hn, cn) = self.LSTM(X,(hidden_state, cell_state))\n",
    "        out = self.output_layer(out[:,-1,:]) # output (batch_size, seq_len, output_len)\n",
    "        return out"
   ]
  },
  {
   "cell_type": "code",
   "execution_count": 3,
   "id": "dff7640c",
   "metadata": {},
   "outputs": [],
   "source": [
    "def get_batch(X, pos, batch_size, seq_len):\n",
    "    \"\"\"\n",
    "    Arguments:\n",
    "    X -- input of shape (file_len, input_len)\n",
    "    pos -- position to start batch\n",
    "    \n",
    "    Returns:\n",
    "    batch -- the training batch of shape (batch_size, seq_len, input_len)\n",
    "    \"\"\"\n",
    "    \n",
    "    file_len = X.shape[0]\n",
    "    input_len = X.shape[1]\n",
    "    batch = torch.zeros(batch_size, seq_len, input_len, device=dev)\n",
    "    if pos + seq_len + batch_size <= file_len:\n",
    "        for i in range(batch_size):\n",
    "            batch[i,:,:] = X[pos+i:pos+seq_len+i,:]\n",
    "        pos = pos + batch_size\n",
    "    elif pos + seq_len <= file_len:\n",
    "        num = pos + seq_len + batch_size - file_len\n",
    "        a = np.random.randint(file_len-batch_size-seq_len)\n",
    "        for i in range(batch_size-num):\n",
    "            batch[i,:,:] = X[pos+i:pos+seq_len+i,:]\n",
    "        for i in range(batch_size-num,batch_size):\n",
    "            batch[i,:,:] = X[a+i:a+seq_len+i,:]\n",
    "        pos = file_len\n",
    "    return batch,pos"
   ]
  },
  {
   "cell_type": "code",
   "execution_count": 4,
   "id": "d6d6b44c",
   "metadata": {},
   "outputs": [],
   "source": [
    "batch_size = 100\n",
    "hidden_size = 150\n",
    "num_layers = 2\n",
    "\n",
    "input_len1 = 362 # 88+120+47+105+2\n",
    "num_class1 = 88 # predict note\n",
    "input_len2 = 362 + 88 # 88+120+47+105+2\n",
    "num_class2 = 105 # predict time shift\n",
    "input_len3 = 362 + 193 # 88+120+47+105+2\n",
    "num_class3 = 120 # predict duration\n",
    "input_len4 = 362 + 313 # 88+120+47+105+2\n",
    "num_class4 = 47 # predict duration\n",
    "input_len5 = 362 + 360 # 88+120+47+105+2\n",
    "num_class5 = 2 # predict pedal"
   ]
  },
  {
   "cell_type": "markdown",
   "id": "6fa6b436",
   "metadata": {},
   "source": [
    "### Model 1"
   ]
  },
  {
   "cell_type": "code",
   "execution_count": 29,
   "id": "fddea8c2",
   "metadata": {},
   "outputs": [
    {
     "name": "stdout",
     "output_type": "stream",
     "text": [
      "LSTM(\n",
      "  (LSTM): LSTM(362, 150, num_layers=2, batch_first=True)\n",
      "  (output_layer): Linear(in_features=150, out_features=88, bias=True)\n",
      ")\n"
     ]
    }
   ],
   "source": [
    "model1 = LSTM(input_len1, hidden_size, num_class1, num_layers)\n",
    "model1.load_state_dict(torch.load(\"model1\", weights_only=True))\n",
    "print(model1)"
   ]
  },
  {
   "cell_type": "code",
   "execution_count": 30,
   "id": "0acfc032",
   "metadata": {},
   "outputs": [],
   "source": [
    "loss_fun = nn.CrossEntropyLoss()\n",
    "# optimizer1 = optim.Adam(model1.parameters())\n",
    "optimizer1 = optim.SGD(model1.parameters(),lr = 0.1)"
   ]
  },
  {
   "cell_type": "code",
   "execution_count": 31,
   "id": "e44866b4",
   "metadata": {},
   "outputs": [],
   "source": [
    "seq_len = 50\n",
    "# epoch = 5"
   ]
  },
  {
   "cell_type": "code",
   "execution_count": 1,
   "id": "d0f4e1f9",
   "metadata": {},
   "outputs": [],
   "source": [
    "for g in range(3):\n",
    "    seq_len += 1\n",
    "    print(\"Sequence length: \", seq_len)\n",
    "    if seq_len%10 == 0:\n",
    "        epoch = 3\n",
    "    else:\n",
    "        epoch = np.random.choice([1,2])\n",
    "    print(\"Epoch: \", epoch)\n",
    "    for e in range(epoch):\n",
    "        txt_folder = Path('D:\\deep music\\data\\e_piano_index\\selected').rglob('*.csv')\n",
    "        count = 0\n",
    "        Loss = 0\n",
    "        print(\"Epoch\", e,\":\")\n",
    "        for x in txt_folder:\n",
    "        #     basename = os.path.basename(x)\n",
    "        #     filename = os.path.splitext(basename)[0]\n",
    "\n",
    "            data_name = os.path.splitext(x)[0]\n",
    "            file = \"{}.csv\".format(data_name)        \n",
    "            Index = pd.read_csv(file, sep=\",\")\n",
    "\n",
    "            numm = 6\n",
    "            indx = np.zeros((Index.shape[0],numm),dtype = int)\n",
    "            indx[:,0] = Index['Note_index']\n",
    "            indx[:,1] = Index['Time_Shift_index'] + 88\n",
    "            indx[:,2] = Index['Duration_index'] + 193\n",
    "            indx[:,3] = Index['Velocity_index'] + 313\n",
    "            indx[:,4] = Index['Pedal'] + 360\n",
    "            indx[:-1,5] = Index['Note_index'][1:] + 362\n",
    "            indx = indx[:-1,:]\n",
    "\n",
    "            # process inputs\n",
    "            file_input = torch.zeros(indx.shape[0],450, device = dev)\n",
    "            for i in range(indx.shape[0]):\n",
    "                file_input[i,indx[i]] = 1\n",
    "\n",
    "            pos = 0\n",
    "            file_len = file_input.shape[0]\n",
    "            while (pos <= file_len - seq_len) & (file_len-batch_size-seq_len > 0):\n",
    "                batch, pos = get_batch(file_input, pos, batch_size, seq_len)\n",
    "\n",
    "                output1 = model1(batch[:,:,:362])\n",
    "                loss1 = loss_fun(output1, batch[:,-1,362:])\n",
    "\n",
    "                optimizer1.zero_grad()\n",
    "                loss1.backward()\n",
    "                optimizer1.step()\n",
    "\n",
    "                count += 1\n",
    "                Loss += loss1.item()\n",
    "                \n",
    "#         print(f\"Loss: {Loss/count:>4f}\")\n",
    "                if count == 10000:\n",
    "                    print(data_name)\n",
    "                    print(f\"Loss: {Loss/10000:>4f}\")\n",
    "                    Loss = 0\n",
    "                    count = 0           "
   ]
  },
  {
   "cell_type": "code",
   "execution_count": 33,
   "id": "1f423f31",
   "metadata": {},
   "outputs": [],
   "source": [
    "torch.save(model1.state_dict(), \"model1\")"
   ]
  },
  {
   "cell_type": "code",
   "execution_count": 34,
   "id": "ccd4826e",
   "metadata": {},
   "outputs": [],
   "source": [
    "torch.cuda.empty_cache()"
   ]
  },
  {
   "cell_type": "markdown",
   "id": "2201b9d8",
   "metadata": {},
   "source": [
    "### Model 2"
   ]
  },
  {
   "cell_type": "code",
   "execution_count": 8,
   "id": "59c655bb",
   "metadata": {},
   "outputs": [
    {
     "name": "stdout",
     "output_type": "stream",
     "text": [
      "LSTM(\n",
      "  (LSTM): LSTM(450, 150, num_layers=2, batch_first=True)\n",
      "  (output_layer): Linear(in_features=150, out_features=105, bias=True)\n",
      ")\n"
     ]
    }
   ],
   "source": [
    "model2 = LSTM(input_len2, hidden_size, num_class2, num_layers)\n",
    "model2.load_state_dict(torch.load(\"model2\", weights_only=True))\n",
    "print(model2)"
   ]
  },
  {
   "cell_type": "code",
   "execution_count": 9,
   "id": "8cf8145b",
   "metadata": {},
   "outputs": [],
   "source": [
    "loss_fun = nn.CrossEntropyLoss()\n",
    "optimizer2 = optim.SGD(model2.parameters(),lr = 0.1)"
   ]
  },
  {
   "cell_type": "code",
   "execution_count": 35,
   "id": "030945ea",
   "metadata": {},
   "outputs": [],
   "source": [
    "seq_len = 50\n",
    "# epoch = 4"
   ]
  },
  {
   "cell_type": "code",
   "execution_count": 2,
   "id": "39dbeff2",
   "metadata": {},
   "outputs": [],
   "source": [
    "for g in range(3):\n",
    "    seq_len += 1\n",
    "    print(\"Sequence length: \", seq_len)\n",
    "    if seq_len%10 == 0:\n",
    "        epoch = 3\n",
    "    else:\n",
    "        epoch = np.random.choice([1,2],p=[0.65,0.35])\n",
    "    print(\"Epoch: \", epoch)\n",
    "    for e in range(epoch):\n",
    "        txt_folder = Path('D:\\deep music\\data\\e_piano_index\\selected').rglob('*.csv')\n",
    "        count = 0\n",
    "        Loss = 0\n",
    "        print(\"Epoch\", e,\":\")\n",
    "        for x in txt_folder:\n",
    "        #     basename = os.path.basename(x)\n",
    "        #     filename = os.path.splitext(basename)[0]\n",
    "\n",
    "            data_name = os.path.splitext(x)[0]\n",
    "            file = \"{}.csv\".format(data_name)        \n",
    "            Index = pd.read_csv(file, sep=\",\")\n",
    "\n",
    "            numm = 7\n",
    "            indx = np.zeros((Index.shape[0],numm),dtype = int)\n",
    "            indx[:,0] = Index['Note_index']\n",
    "            indx[:,1] = Index['Time_Shift_index'] + 88\n",
    "            indx[:,2] = Index['Duration_index'] + 193\n",
    "            indx[:,3] = Index['Velocity_index'] + 313\n",
    "            indx[:,4] = Index['Pedal'] + 360\n",
    "            indx[:-1,5] = Index['Note_index'][1:] + 362\n",
    "            indx[:-1,6] = Index['Time_Shift_index'][1:] + 450\n",
    "            indx = indx[:-1,:]\n",
    "\n",
    "            # process inputs\n",
    "            file_input = torch.zeros(indx.shape[0],555, device = dev)\n",
    "            for i in range(indx.shape[0]):\n",
    "                file_input[i,indx[i]] = 1\n",
    "\n",
    "            pos = 0\n",
    "            file_len = file_input.shape[0]\n",
    "            while (pos <= file_len - seq_len) & (file_len-batch_size-seq_len > 0):\n",
    "                batch, pos = get_batch(file_input, pos, batch_size, seq_len)\n",
    "\n",
    "                output2 = model2(batch[:,:,:450])\n",
    "                loss2 = loss_fun(output2, batch[:,-1,450:])\n",
    "\n",
    "                optimizer2.zero_grad()\n",
    "                loss2.backward()\n",
    "                optimizer2.step()\n",
    "\n",
    "                count += 1\n",
    "                Loss += loss2.item()\n",
    "                if count == 10000:\n",
    "                    print(data_name)\n",
    "                    print(f\"Loss: {Loss/10000:>4f}\")\n",
    "                    Loss = 0\n",
    "                    count = 0"
   ]
  },
  {
   "cell_type": "code",
   "execution_count": 37,
   "id": "9d3df920",
   "metadata": {},
   "outputs": [],
   "source": [
    "torch.save(model2.state_dict(), \"model2\")"
   ]
  },
  {
   "cell_type": "code",
   "execution_count": 38,
   "id": "8c91f1ab",
   "metadata": {},
   "outputs": [],
   "source": [
    "torch.cuda.empty_cache()"
   ]
  },
  {
   "cell_type": "markdown",
   "id": "60b5011a",
   "metadata": {},
   "source": [
    "### Model 3"
   ]
  },
  {
   "cell_type": "code",
   "execution_count": 6,
   "id": "5d394f1f",
   "metadata": {},
   "outputs": [
    {
     "name": "stdout",
     "output_type": "stream",
     "text": [
      "LSTM(\n",
      "  (LSTM): LSTM(555, 150, num_layers=2, batch_first=True)\n",
      "  (output_layer): Linear(in_features=150, out_features=120, bias=True)\n",
      ")\n"
     ]
    }
   ],
   "source": [
    "model3 = LSTM(input_len3, hidden_size, num_class3, num_layers)\n",
    "model3.load_state_dict(torch.load(\"model3\", weights_only=True))\n",
    "print(model3)"
   ]
  },
  {
   "cell_type": "code",
   "execution_count": 7,
   "id": "b7ae7ee8",
   "metadata": {},
   "outputs": [],
   "source": [
    "loss_fun = nn.CrossEntropyLoss()\n",
    "optimizer3 = optim.SGD(model3.parameters(),lr = 0.1)"
   ]
  },
  {
   "cell_type": "code",
   "execution_count": 8,
   "id": "b4e66f02",
   "metadata": {},
   "outputs": [],
   "source": [
    "seq_len = 50\n",
    "# epoch = 3"
   ]
  },
  {
   "cell_type": "code",
   "execution_count": 3,
   "id": "01f253c1",
   "metadata": {},
   "outputs": [],
   "source": [
    "for g in range(3):\n",
    "    seq_len += 1\n",
    "    print(\"Sequence length: \", seq_len)\n",
    "    if seq_len%10 == 0:\n",
    "        epoch = 3\n",
    "    else:\n",
    "        epoch = np.random.choice([1,2],p=[0.65,0.35])\n",
    "    print(\"Epoch: \", epoch)\n",
    "    for e in range(epoch):\n",
    "        txt_folder = Path('D:\\deep music\\data\\e_piano_index\\selected').rglob('*.csv')\n",
    "        count = 0\n",
    "        Loss = 0\n",
    "        print(\"Epoch\", e,\":\")\n",
    "        for x in txt_folder:\n",
    "        #     basename = os.path.basename(x)\n",
    "        #     filename = os.path.splitext(basename)[0]\n",
    "\n",
    "            data_name = os.path.splitext(x)[0]\n",
    "            file = \"{}.csv\".format(data_name)        \n",
    "            Index = pd.read_csv(file, sep=\",\")\n",
    "\n",
    "            numm = 8\n",
    "            indx = np.zeros((Index.shape[0],numm),dtype = int)\n",
    "            indx[:,0] = Index['Note_index']\n",
    "            indx[:,1] = Index['Time_Shift_index'] + 88\n",
    "            indx[:,2] = Index['Duration_index'] + 193\n",
    "            indx[:,3] = Index['Velocity_index'] + 313\n",
    "            indx[:,4] = Index['Pedal'] + 360\n",
    "            indx[:-1,5] = Index['Note_index'][1:] + 362\n",
    "            indx[:-1,6] = Index['Time_Shift_index'][1:] + 450\n",
    "            indx[:-1,7] = Index['Duration_index'][1:] + 555\n",
    "            indx = indx[:-1,:]\n",
    "\n",
    "            # process inputs\n",
    "            file_input = torch.zeros(indx.shape[0], 675, device = dev)\n",
    "            for i in range(indx.shape[0]):\n",
    "                file_input[i,indx[i]] = 1\n",
    "\n",
    "            pos = 0\n",
    "            file_len = file_input.shape[0]\n",
    "            while (pos <= file_len - seq_len) & (file_len-batch_size-seq_len > 0):\n",
    "                batch, pos = get_batch(file_input, pos, batch_size, seq_len)\n",
    "\n",
    "                output3 = model3(batch[:,:,:555])\n",
    "                loss3 = loss_fun(output3, batch[:,-1,555:])\n",
    "\n",
    "                optimizer3.zero_grad()\n",
    "                loss3.backward()\n",
    "                optimizer3.step()\n",
    "\n",
    "                count += 1\n",
    "                Loss += loss3.item()\n",
    "                if count == 10000:\n",
    "                    print(data_name)\n",
    "                    print(f\"Loss: {Loss/10000:>4f}\")\n",
    "                    Loss = 0\n",
    "                    count = 0"
   ]
  },
  {
   "cell_type": "markdown",
   "id": "956fd9da",
   "metadata": {},
   "source": [
    "3.384670"
   ]
  },
  {
   "cell_type": "code",
   "execution_count": null,
   "id": "b142a7be",
   "metadata": {},
   "outputs": [],
   "source": [
    "torch.save(model3.state_dict(), \"model3\")"
   ]
  },
  {
   "cell_type": "code",
   "execution_count": null,
   "id": "b4e1e217",
   "metadata": {},
   "outputs": [],
   "source": [
    "torch.cuda.empty_cache()"
   ]
  },
  {
   "cell_type": "markdown",
   "id": "ddb28dd4",
   "metadata": {},
   "source": [
    "### Model 4"
   ]
  },
  {
   "cell_type": "code",
   "execution_count": null,
   "id": "05884699",
   "metadata": {},
   "outputs": [],
   "source": [
    "model4 = LSTM(input_len4, hidden_size, num_class4, num_layers)\n",
    "model4.load_state_dict(torch.load(\"model4\", weights_only=True))\n",
    "print(model4)"
   ]
  },
  {
   "cell_type": "code",
   "execution_count": null,
   "id": "7520349f",
   "metadata": {},
   "outputs": [],
   "source": [
    "loss_fun = nn.CrossEntropyLoss()\n",
    "optimizer4 = optim.SGD(model4.parameters(),lr = 0.1)"
   ]
  },
  {
   "cell_type": "code",
   "execution_count": null,
   "id": "5f64ce73",
   "metadata": {},
   "outputs": [],
   "source": [
    "seq_len = 50\n",
    "# epoch = 4"
   ]
  },
  {
   "cell_type": "code",
   "execution_count": null,
   "id": "0a4866b3",
   "metadata": {},
   "outputs": [],
   "source": [
    "for g in range(3):\n",
    "    seq_len += 1\n",
    "    print(\"Sequence length: \", seq_len)\n",
    "    if seq_len%10 == 0:\n",
    "        epoch = 3\n",
    "    else:\n",
    "        epoch = np.random.choice([1,2],p=[0.65,0.35])\n",
    "    print(\"Epoch: \", epoch)\n",
    "    for e in range(epoch):\n",
    "        txt_folder = Path('D:\\deep music\\data\\e_piano_index\\selected').rglob('*.csv')\n",
    "        count = 0\n",
    "        Loss = 0\n",
    "        print(\"Epoch\", e,\":\")\n",
    "        for x in txt_folder:\n",
    "        #     basename = os.path.basename(x)\n",
    "        #     filename = os.path.splitext(basename)[0]\n",
    "\n",
    "            data_name = os.path.splitext(x)[0]\n",
    "            file = \"{}.csv\".format(data_name)        \n",
    "            Index = pd.read_csv(file, sep=\",\")\n",
    "\n",
    "            numm = 9\n",
    "            indx = np.zeros((Index.shape[0],numm),dtype = int)\n",
    "            indx[:,0] = Index['Note_index']\n",
    "            indx[:,1] = Index['Time_Shift_index'] + 88\n",
    "            indx[:,2] = Index['Duration_index'] + 193\n",
    "            indx[:,3] = Index['Velocity_index'] + 313\n",
    "            indx[:,4] = Index['Pedal'] + 360\n",
    "            indx[:-1,5] = Index['Note_index'][1:] + 362\n",
    "            indx[:-1,6] = Index['Time_Shift_index'][1:] + 450\n",
    "            indx[:-1,7] = Index['Duration_index'][1:] + 555\n",
    "            indx[:-1,8] = Index['Velocity_index'][1:] + 675\n",
    "            indx = indx[:-1,:]\n",
    "\n",
    "            # process inputs\n",
    "            file_input = torch.zeros(indx.shape[0], 722, device = dev)\n",
    "            for i in range(indx.shape[0]):\n",
    "                file_input[i,indx[i]] = 1\n",
    "\n",
    "            pos = 0\n",
    "            file_len = file_input.shape[0]\n",
    "            while (pos <= file_len - seq_len) & (file_len-batch_size-seq_len > 0):\n",
    "                batch, pos = get_batch(file_input, pos, batch_size, seq_len)\n",
    "\n",
    "                output4 = model4(batch[:,:,:675])\n",
    "                loss4 = loss_fun(output4, batch[:,-1,675:])\n",
    "\n",
    "                optimizer4.zero_grad()\n",
    "                loss4.backward()\n",
    "                optimizer4.step()\n",
    "\n",
    "                count += 1\n",
    "                Loss += loss4.item()\n",
    "                if count == 10000:\n",
    "                    print(data_name)\n",
    "                    print(f\"Loss: {Loss/10000:>4f}\")\n",
    "                    Loss = 0\n",
    "                    count = 0"
   ]
  },
  {
   "cell_type": "markdown",
   "id": "0edd4c41",
   "metadata": {},
   "source": [
    "2.891708"
   ]
  },
  {
   "cell_type": "code",
   "execution_count": null,
   "id": "49de4016",
   "metadata": {},
   "outputs": [],
   "source": [
    "torch.save(model4.state_dict(), \"model4\")"
   ]
  },
  {
   "cell_type": "code",
   "execution_count": null,
   "id": "148a8fbb",
   "metadata": {},
   "outputs": [],
   "source": [
    "torch.cuda.empty_cache()"
   ]
  },
  {
   "cell_type": "markdown",
   "id": "37d03dab",
   "metadata": {},
   "source": [
    "### Model 5"
   ]
  },
  {
   "cell_type": "code",
   "execution_count": null,
   "id": "ed7016b4",
   "metadata": {},
   "outputs": [],
   "source": [
    "model5 = LSTM(input_len5, hidden_size, num_class5, num_layers)\n",
    "model5.load_state_dict(torch.load(\"model5\", weights_only=True))\n",
    "print(model5)"
   ]
  },
  {
   "cell_type": "code",
   "execution_count": null,
   "id": "5445623c",
   "metadata": {},
   "outputs": [],
   "source": [
    "loss_fun = nn.CrossEntropyLoss()\n",
    "optimizer5 = optim.SGD(model5.parameters(),lr = 0.1)"
   ]
  },
  {
   "cell_type": "code",
   "execution_count": null,
   "id": "b854a298",
   "metadata": {},
   "outputs": [],
   "source": [
    "seq_len = 50\n",
    "# epoch = 3"
   ]
  },
  {
   "cell_type": "code",
   "execution_count": null,
   "id": "bdf664e3",
   "metadata": {},
   "outputs": [],
   "source": [
    "for g in range(3):\n",
    "    seq_len += 1\n",
    "    print(\"Sequence length: \", seq_len)\n",
    "    if seq_len%10 == 0:\n",
    "        epoch = 3\n",
    "    else:\n",
    "        epoch = np.random.choice([1,2],p=[0.65,0.35])\n",
    "    print(\"Epoch: \", epoch)\n",
    "    for e in range(epoch):\n",
    "        txt_folder = Path('D:\\deep music\\data\\e_piano_index\\selected').rglob('*.csv')\n",
    "        count = 0\n",
    "        Loss = 0\n",
    "        print(\"Epoch\", e,\":\")\n",
    "        for x in txt_folder:\n",
    "        #     basename = os.path.basename(x)\n",
    "        #     filename = os.path.splitext(basename)[0]\n",
    "\n",
    "            data_name = os.path.splitext(x)[0]\n",
    "            file = \"{}.csv\".format(data_name)        \n",
    "            Index = pd.read_csv(file, sep=\",\")\n",
    "\n",
    "            numm = 10\n",
    "            indx = np.zeros((Index.shape[0],numm),dtype = int)\n",
    "            indx[:,0] = Index['Note_index']\n",
    "            indx[:,1] = Index['Time_Shift_index'] + 88\n",
    "            indx[:,2] = Index['Duration_index'] + 193\n",
    "            indx[:,3] = Index['Velocity_index'] + 313\n",
    "            indx[:,4] = Index['Pedal'] + 360\n",
    "            indx[:-1,5] = Index['Note_index'][1:] + 362\n",
    "            indx[:-1,6] = Index['Time_Shift_index'][1:] + 450\n",
    "            indx[:-1,7] = Index['Duration_index'][1:] + 555\n",
    "            indx[:-1,8] = Index['Velocity_index'][1:] + 675\n",
    "            indx[:-1,9] = Index['Pedal'][1:] + 722\n",
    "            indx = indx[:-1,:]\n",
    "\n",
    "            # process inputs\n",
    "            file_input = torch.zeros(indx.shape[0], 724, device = dev)\n",
    "            for i in range(indx.shape[0]):\n",
    "                file_input[i,indx[i]] = 1\n",
    "\n",
    "            pos = 0\n",
    "            file_len = file_input.shape[0]\n",
    "            while (pos <= file_len - seq_len) & (file_len-batch_size-seq_len > 0):\n",
    "                batch, pos = get_batch(file_input, pos, batch_size, seq_len)\n",
    "\n",
    "                output5 = model5(batch[:,:,:722])\n",
    "                loss5 = loss_fun(output5, batch[:,-1,722:])\n",
    "\n",
    "                optimizer5.zero_grad()\n",
    "                loss5.backward()\n",
    "                optimizer5.step()\n",
    "\n",
    "                count += 1\n",
    "                Loss += loss5.item()\n",
    "                if count == 10000:\n",
    "                    print(data_name)\n",
    "                    print(f\"Loss: {Loss/10000:>4f}\")\n",
    "                    Loss = 0\n",
    "                    count = 0"
   ]
  },
  {
   "cell_type": "markdown",
   "id": "265c8004",
   "metadata": {},
   "source": [
    "0.112460"
   ]
  },
  {
   "cell_type": "code",
   "execution_count": null,
   "id": "bf1c021f",
   "metadata": {},
   "outputs": [],
   "source": [
    "torch.save(model5.state_dict(), \"model5\")"
   ]
  },
  {
   "cell_type": "code",
   "execution_count": null,
   "id": "d6f329ba",
   "metadata": {},
   "outputs": [],
   "source": [
    "torch.cuda.empty_cache()"
   ]
  },
  {
   "cell_type": "code",
   "execution_count": null,
   "id": "a25a9651",
   "metadata": {},
   "outputs": [],
   "source": []
  }
 ],
 "metadata": {
  "kernelspec": {
   "display_name": "Python 3 (ipykernel)",
   "language": "python",
   "name": "python3"
  },
  "language_info": {
   "codemirror_mode": {
    "name": "ipython",
    "version": 3
   },
   "file_extension": ".py",
   "mimetype": "text/x-python",
   "name": "python",
   "nbconvert_exporter": "python",
   "pygments_lexer": "ipython3",
   "version": "3.11.5"
  }
 },
 "nbformat": 4,
 "nbformat_minor": 5
}
